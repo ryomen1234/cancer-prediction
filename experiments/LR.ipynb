{
 "cells": [
  {
   "cell_type": "code",
   "execution_count": null,
   "id": "70815fca",
   "metadata": {},
   "outputs": [],
   "source": [
    "'''this notebooks exeperiment on logistic regression model'''"
   ]
  }
 ],
 "metadata": {
  "language_info": {
   "name": "python"
  }
 },
 "nbformat": 4,
 "nbformat_minor": 5
}
